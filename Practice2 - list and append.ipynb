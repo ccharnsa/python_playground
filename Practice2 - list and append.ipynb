{
 "cells": [
  {
   "cell_type": "code",
   "execution_count": 1,
   "metadata": {},
   "outputs": [
    {
     "name": "stdout",
     "output_type": "stream",
     "text": [
      "1\n"
     ]
    }
   ],
   "source": [
    "sampleInput1 = 5\n",
    "data_list = [1,0,0,0,0]\n",
    "\n",
    "#write your Logic here:  \n",
    "count = 0\n",
    "lst = []\n",
    "for i in range(len(data_list)):\n",
    "    if i != (len(data_list)-1):\n",
    "        \n",
    "        if data_list[i] == 1:\n",
    "            count = count+1\n",
    "        else:\n",
    "            lst.append(count)\n",
    "            count=0\n",
    "    else:\n",
    "        if data_list[i] == 1:\n",
    "            count = count+1\n",
    "        lst.append(count)\n",
    "# print(lst)\n",
    "\n",
    "#OUTPUT [uncomment & modify if required]  \n",
    "print(max(lst))\n",
    "\n",
    "\n",
    "\n",
    "# Input\n",
    "# 5\n",
    "# 1 0 0 0 0\n",
    "\n",
    "# Expected Output\n",
    "# 1\n",
    "\n",
    "# Actual Output\n",
    "# 1\n",
    "\n",
    "#=======\n",
    "\n",
    "# Input\n",
    "# 6\n",
    "# 1 0 1 1 1\n",
    "\n",
    "# Expected Output\n",
    "# 3\n",
    "\n",
    "# Actual Output\n",
    "# 3"
   ]
  },
  {
   "cell_type": "code",
   "execution_count": null,
   "metadata": {},
   "outputs": [],
   "source": []
  }
 ],
 "metadata": {
  "kernelspec": {
   "display_name": "Python 3",
   "language": "python",
   "name": "python3"
  },
  "language_info": {
   "codemirror_mode": {
    "name": "ipython",
    "version": 3
   },
   "file_extension": ".py",
   "mimetype": "text/x-python",
   "name": "python",
   "nbconvert_exporter": "python",
   "pygments_lexer": "ipython3",
   "version": "3.8.3"
  }
 },
 "nbformat": 4,
 "nbformat_minor": 4
}
