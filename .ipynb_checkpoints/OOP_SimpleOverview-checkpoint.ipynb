{
 "cells": [
  {
   "cell_type": "code",
   "execution_count": 35,
   "metadata": {},
   "outputs": [
    {
     "name": "stdout",
     "output_type": "stream",
     "text": [
      "bello\n",
      "paris\n",
      "Xxx Wuff\n"
     ]
    }
   ],
   "source": [
    "class Dog:\n",
    "    # class attribute\n",
    "    is_hairy = True\n",
    "    \n",
    "    # constructor \n",
    "    # need to add name attribute\n",
    "    def __init__(self, name):\n",
    "        # instance attribute\n",
    "        self.name = name\n",
    "    # method\n",
    "    def bark(self):\n",
    "        print(self.name+\" Wuff\")\n",
    "\n",
    "bello = Dog(\"bello\")\n",
    "paris = Dog(\"paris\")\n",
    "\n",
    "print(bello.name)\n",
    "# \"bello\"\n",
    "\n",
    "print(paris.name)\n",
    "# \"paris\"\n",
    "\n",
    "x=Dog(\"Xxx\")\n",
    "x.bark()\n",
    "# Xxx Wuff"
   ]
  },
  {
   "cell_type": "code",
   "execution_count": 6,
   "metadata": {},
   "outputs": [
    {
     "name": "stdout",
     "output_type": "stream",
     "text": [
      "miau \n",
      "miau miau miau miau miau \n",
      "mice\n"
     ]
    }
   ],
   "source": [
    "class Cat:\n",
    "    # method overloading    \n",
    "    def miau(self, times=1):\n",
    "        print(\"miau \" * times)\n",
    "fifi = Cat()\n",
    "\n",
    "fifi.miau()\n",
    "# \"miau \"\n",
    "\n",
    "fifi.miau(5)\n",
    "# \"miau miau miau miau miau \"\n",
    "\n",
    "# Dynamic attribute\n",
    "fifi.likes = \"mice\"\n",
    "print(fifi.likes)\n",
    "# \"mice\"\n"
   ]
  },
  {
   "cell_type": "code",
   "execution_count": 9,
   "metadata": {},
   "outputs": [
    {
     "name": "stdout",
     "output_type": "stream",
     "text": [
      "miau miau miau \n",
      "None\n",
      "Persian\n"
     ]
    }
   ],
   "source": [
    "# Inheritance\n",
    "# Cat is class name\n",
    "class Persian_Cat(Cat):\n",
    "    classification = \"Persian\"\n",
    "mimi = Persian_Cat()\n",
    "print(mimi.miau(3))\n",
    "# \"miau miau miau \"\n",
    "print(mimi.classification)"
   ]
  },
  {
   "cell_type": "code",
   "execution_count": null,
   "metadata": {},
   "outputs": [],
   "source": []
  }
 ],
 "metadata": {
  "kernelspec": {
   "display_name": "Python 3",
   "language": "python",
   "name": "python3"
  },
  "language_info": {
   "codemirror_mode": {
    "name": "ipython",
    "version": 3
   },
   "file_extension": ".py",
   "mimetype": "text/x-python",
   "name": "python",
   "nbconvert_exporter": "python",
   "pygments_lexer": "ipython3",
   "version": "3.8.3"
  }
 },
 "nbformat": 4,
 "nbformat_minor": 4
}
