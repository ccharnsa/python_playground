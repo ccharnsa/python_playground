{
 "cells": [
  {
   "cell_type": "code",
   "execution_count": 2,
   "metadata": {},
   "outputs": [
    {
     "name": "stdout",
     "output_type": "stream",
     "text": [
      "1\n",
      "2\n",
      "Usb\n",
      "4\n",
      "Device\n",
      "Usb\n",
      "7\n",
      "8\n",
      "Usb\n",
      "Device\n",
      "11\n",
      "Usb\n",
      "13\n",
      "14\n",
      "UsbDevice\n",
      "16\n",
      "17\n",
      "Usb\n",
      "19\n",
      "Device\n"
     ]
    }
   ],
   "source": [
    "# Write a program that prints the numbers from 1 to 20.\n",
    "# For multiple of 3, print Usb instead of the number and multiple of 5, print Device.\n",
    "# For the numbers which are multiples of both 3 and 5, print UsbDevice.\n",
    "# Print a new line after each string or number.\n",
    "\n",
    "#write your Logic here:  \n",
    "for i in range(1,21):\n",
    "    if i%3==0:\n",
    "        if i%5==0:\n",
    "            print(\"UsbDevice\")\n",
    "        else:\n",
    "            print(\"Usb\")\n",
    "    elif i%5==0:\n",
    "        print(\"Device\")\n",
    "    else:\n",
    "        print(i)"
   ]
  },
  {
   "cell_type": "code",
   "execution_count": null,
   "metadata": {},
   "outputs": [],
   "source": []
  },
  {
   "cell_type": "code",
   "execution_count": null,
   "metadata": {},
   "outputs": [],
   "source": []
  }
 ],
 "metadata": {
  "kernelspec": {
   "display_name": "Python 3",
   "language": "python",
   "name": "python3"
  },
  "language_info": {
   "codemirror_mode": {
    "name": "ipython",
    "version": 3
   },
   "file_extension": ".py",
   "mimetype": "text/x-python",
   "name": "python",
   "nbconvert_exporter": "python",
   "pygments_lexer": "ipython3",
   "version": "3.8.3"
  }
 },
 "nbformat": 4,
 "nbformat_minor": 4
}
