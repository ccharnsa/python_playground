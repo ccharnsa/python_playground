{
 "cells": [
  {
   "cell_type": "code",
   "execution_count": 3,
   "metadata": {},
   "outputs": [
    {
     "name": "stdout",
     "output_type": "stream",
     "text": [
      "fon\n",
      "31\n"
     ]
    }
   ],
   "source": [
    "# class – Here is a class named Person.\n",
    "# Constructors have the default name __init__. They are functions that are implicitly called when an object of the class is created.\n",
    "# All instance methods including the constructor have their first parameter as self.\n",
    "# self refers to instance that is being referenced while calling the method.\n",
    "# name and age are the instance variables.\n",
    "\n",
    "class Person:\n",
    "    def __init__(self, name, age):\n",
    "        self.name = name\n",
    "        self.age = age\n",
    "\n",
    "        \n",
    "# Once a Person class is defined you can use it to create an instance by passing values as shown below.\n",
    "\n",
    "if __name__ == \"__main__\":\n",
    "    p = Person(\"fon\", 31)\n",
    "    print(p.name)\n",
    "    print(p.age)\n",
    "    \n",
    "# Even though the class has three parameters (self, name, age), we’ll still pass only name and age while creating an object, as we don’t need to refer self here. It’s implicit.\n",
    "# Once an object is created, you can refer to the attributes of the object using a dot. For example, p.name refers to the name attribute of that particular object"
   ]
  },
  {
   "cell_type": "code",
   "execution_count": null,
   "metadata": {},
   "outputs": [],
   "source": []
  }
 ],
 "metadata": {
  "kernelspec": {
   "display_name": "Python 3",
   "language": "python",
   "name": "python3"
  },
  "language_info": {
   "codemirror_mode": {
    "name": "ipython",
    "version": 3
   },
   "file_extension": ".py",
   "mimetype": "text/x-python",
   "name": "python",
   "nbconvert_exporter": "python",
   "pygments_lexer": "ipython3",
   "version": "3.8.3"
  }
 },
 "nbformat": 4,
 "nbformat_minor": 4
}
