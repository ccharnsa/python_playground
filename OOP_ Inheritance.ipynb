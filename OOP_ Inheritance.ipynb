{
 "cells": [
  {
   "cell_type": "code",
   "execution_count": 1,
   "metadata": {},
   "outputs": [],
   "source": [
    "# As the name suggest, this concept is about inheriting properties from an existing entity. This increases reusability of code. Single, Multiple and Multi-level inheritances are few of the many types supported by Python.\n",
    "\n",
    "\n",
    "class Person:\n",
    "  def __init__(self):\n",
    "    pass\n",
    "\n",
    "# Single level inheritance\n",
    "class Employee(Person):\n",
    "  def __init__(self):\n",
    "    pass\n",
    "\n",
    "# In multiple inheritance, classes are inherited from left to right inside parenthesis, depending on Method Resolution Order (MRO) algorithm of Python.\n",
    "\n",
    "# Multi-level inheritance\n",
    "class Manager(Employee):\n",
    "  def __init__(self):\n",
    "    pass\n",
    "\n",
    "# Multiple Inheritance\n",
    "class Enterprenaur(Person, Employee):\n",
    "  def __init__(self):\n",
    "    pass"
   ]
  },
  {
   "cell_type": "code",
   "execution_count": null,
   "metadata": {},
   "outputs": [],
   "source": []
  }
 ],
 "metadata": {
  "kernelspec": {
   "display_name": "Python 3",
   "language": "python",
   "name": "python3"
  },
  "language_info": {
   "codemirror_mode": {
    "name": "ipython",
    "version": 3
   },
   "file_extension": ".py",
   "mimetype": "text/x-python",
   "name": "python",
   "nbconvert_exporter": "python",
   "pygments_lexer": "ipython3",
   "version": "3.8.3"
  }
 },
 "nbformat": 4,
 "nbformat_minor": 4
}
