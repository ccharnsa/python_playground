{
 "metadata": {
  "language_info": {
   "codemirror_mode": {
    "name": "ipython",
    "version": 3
   },
   "file_extension": ".py",
   "mimetype": "text/x-python",
   "name": "python",
   "nbconvert_exporter": "python",
   "pygments_lexer": "ipython3",
   "version": "3.8.3-final"
  },
  "orig_nbformat": 2,
  "kernelspec": {
   "name": "python3",
   "display_name": "Python 3"
  }
 },
 "nbformat": 4,
 "nbformat_minor": 2,
 "cells": [
  {
   "cell_type": "code",
   "execution_count": 1,
   "metadata": {},
   "outputs": [],
   "source": [
    "import pandas as pd\n",
    "from datetime import datetime,date,timedelta\n",
    "#generic method with utf-8\n",
    "def read_df(input_fname, ext=1, path='/home/jovyan/work/input',encoding='utf-8', test_mode=False):\n",
    "\t#update pandas to handle thousand operators and default na strings\n",
    "\tdf = pd.read_csv('{}/{}.csv'.format(path, input_fname) if ext else '{}/{}'.format(path, input_fname),encoding=encoding,thousands=',',parse_dates=True)\n",
    "\treturn(df.head(5) if test_mode else df)\n",
    "\n",
    "#generic write with no coersion\n",
    "def write_df(output_data, output_fname, path='/home/jovyan/work/output',encoding='utf-8',ts=0):\n",
    "\tif not output_data.empty:\n",
    "\t\toutput_data.to_csv('{}/{}_{}.csv'.format(path,output_fname,datetime.now().strftime('%Y%m%d %H%M%S') if ts else datetime.now().strftime('%Y%m%d')), encoding=encoding, index=False, date_format='%Y-%m-%d')\n",
    " "
   ]
  },
  {
   "cell_type": "code",
   "execution_count": null,
   "metadata": {},
   "outputs": [],
   "source": [
    "read_df()"
   ]
  }
 ]
}